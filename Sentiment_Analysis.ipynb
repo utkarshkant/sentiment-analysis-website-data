{
  "nbformat": 4,
  "nbformat_minor": 0,
  "metadata": {
    "colab": {
      "name": "Sentiment Analysis.ipynb",
      "provenance": []
    },
    "kernelspec": {
      "name": "python3",
      "display_name": "Python 3"
    }
  },
  "cells": [
    {
      "cell_type": "markdown",
      "metadata": {
        "id": "kWbNgRT-ngXk",
        "colab_type": "text"
      },
      "source": [
        "# Sentiment Analysis\n",
        "### Objective : Get the sentiment of a text from a website."
      ]
    },
    {
      "cell_type": "markdown",
      "metadata": {
        "id": "F4Ftx_U1nrSo",
        "colab_type": "text"
      },
      "source": [
        "**Sentiment Analysis** is the process of computationally classifying and categorizing opinions expressed in a piece of text, especially in order to determine whether the writer's attitude towards a particular topic or subject is positive, negative or neutral."
      ]
    },
    {
      "cell_type": "markdown",
      "metadata": {
        "id": "FaQ_W4ZBo7CQ",
        "colab_type": "text"
      },
      "source": [
        "## 1. Import Dependencies"
      ]
    },
    {
      "cell_type": "code",
      "metadata": {
        "id": "opMwrmJBndZc",
        "colab_type": "code",
        "colab": {}
      },
      "source": [
        "# install libraries\n",
        "!pip install NLTK\n",
        "!pip install newspaper3k\n",
        "!pip install textblob"
      ],
      "execution_count": null,
      "outputs": []
    },
    {
      "cell_type": "code",
      "metadata": {
        "id": "aTMgiBxAnikP",
        "colab_type": "code",
        "colab": {}
      },
      "source": [
        "# import libraries\n",
        "from textblob import TextBlob\n",
        "import nltk\n",
        "from newspaper import Article"
      ],
      "execution_count": null,
      "outputs": []
    },
    {
      "cell_type": "code",
      "metadata": {
        "id": "quSHeYfdptJc",
        "colab_type": "code",
        "colab": {}
      },
      "source": [
        "# create the Article object from a website URL\n",
        "url = 'https://everythingcomputerscience.com/'\n",
        "article = Article(url)"
      ],
      "execution_count": null,
      "outputs": []
    },
    {
      "cell_type": "markdown",
      "metadata": {
        "id": "u-PTfY95uenc",
        "colab_type": "text"
      },
      "source": [
        "## 2. Data Processing - NLP"
      ]
    },
    {
      "cell_type": "code",
      "metadata": {
        "id": "86O3KK_vqSx2",
        "colab_type": "code",
        "colab": {
          "base_uri": "https://localhost:8080/",
          "height": 50
        },
        "outputId": "994d2e79-fe43-4a21-8a40-2aa455203fc4"
      },
      "source": [
        "# do some NLP\n",
        "article.download()  # download the article\n",
        "article.parse()  # parse the article\n",
        "nltk.download('punkt')  # download punkt\n",
        "article.nlp()"
      ],
      "execution_count": null,
      "outputs": [
        {
          "output_type": "stream",
          "text": [
            "[nltk_data] Downloading package punkt to /root/nltk_data...\n",
            "[nltk_data]   Unzipping tokenizers/punkt.zip.\n"
          ],
          "name": "stdout"
        }
      ]
    },
    {
      "cell_type": "markdown",
      "metadata": {
        "id": "Yoe1h2TgusRG",
        "colab_type": "text"
      },
      "source": [
        "## 3. Extract Data"
      ]
    },
    {
      "cell_type": "code",
      "metadata": {
        "id": "UvGfyUABqWWY",
        "colab_type": "code",
        "colab": {
          "base_uri": "https://localhost:8080/",
          "height": 104
        },
        "outputId": "22a66980-49f3-4c72-cc3a-9c2c0798425f"
      },
      "source": [
        "# get the article summary\n",
        "summary_text = article.summary\n",
        "# print article summary\n",
        "print(summary_text)"
      ],
      "execution_count": null,
      "outputs": [
        {
          "output_type": "stream",
          "text": [
            "Computer Science (CS)Computer Science (CS) is the study of the principles and use of computers.\n",
            "Simply put it's the science that deals with the theory and methods of processing information in digital computers, the design of computer hardware and software, and the applications of computers.\n",
            "A computer is simply a tool for a computer scientist, like a telescope for an astronomer.\n",
            "Teach yourself !\n"
          ],
          "name": "stdout"
        }
      ]
    },
    {
      "cell_type": "markdown",
      "metadata": {
        "id": "pCcFRn2ysRcF",
        "colab_type": "text"
      },
      "source": [
        "## 4. Sentiment Analysis\n",
        "The sentiment analysis of any text is ranges between -1 to +1. This range is called the Sentiment Polarity.\n",
        "- 0 = Neutral sentiment\n",
        "- 0 to 1 = Positive sentiment\n",
        "- -1 to 0 = Negative sentiment"
      ]
    },
    {
      "cell_type": "code",
      "metadata": {
        "id": "A8hSGTVGqwxC",
        "colab_type": "code",
        "colab": {
          "base_uri": "https://localhost:8080/",
          "height": 34
        },
        "outputId": "32ca5185-5654-441b-93ac-7b3025e3d058"
      },
      "source": [
        "# create a TextBlob object\n",
        "tb_obj = TextBlob(summary_text)\n",
        "\n",
        "# get sentiment polarity\n",
        "sentiment = tb_obj.sentiment.polarity  # returns a value between -1 & +1\n",
        "print(sentiment)  # 0.0 = perfectly neutral"
      ],
      "execution_count": null,
      "outputs": [
        {
          "output_type": "stream",
          "text": [
            "0.0\n"
          ],
          "name": "stdout"
        }
      ]
    },
    {
      "cell_type": "markdown",
      "metadata": {
        "id": "xkJKsum6taPJ",
        "colab_type": "text"
      },
      "source": [
        "### Create UDF for sentiment analysis\n"
      ]
    },
    {
      "cell_type": "code",
      "metadata": {
        "id": "Tkz_2-Ultezn",
        "colab_type": "code",
        "colab": {}
      },
      "source": [
        "# create UDF for sentiment analysis\n",
        "def get_sentiment_analysis(text_content):\n",
        "  # create a TextBlob obj\n",
        "  tb_obj = TextBlob(text_content)\n",
        "  # get sentiment\n",
        "  sentiment = tb_obj.sentiment.polarity\n",
        "  # print sentiment\n",
        "  if sentiment == 0:\n",
        "    print(\"The text is NEUTRAL\")\n",
        "  elif sentiment > 0:\n",
        "    print(\"The text is POSITIVE\")\n",
        "  else:\n",
        "    print(\"The text is NEGATIVE\")"
      ],
      "execution_count": null,
      "outputs": []
    },
    {
      "cell_type": "code",
      "metadata": {
        "id": "9e7Th473uEvU",
        "colab_type": "code",
        "colab": {
          "base_uri": "https://localhost:8080/",
          "height": 34
        },
        "outputId": "15d0facd-9137-4863-abbc-32bd9f7c9950"
      },
      "source": [
        "# test UDF\n",
        "get_sentiment_analysis(summary_text)"
      ],
      "execution_count": null,
      "outputs": [
        {
          "output_type": "stream",
          "text": [
            "The text is NEUTRAL\n"
          ],
          "name": "stdout"
        }
      ]
    },
    {
      "cell_type": "markdown",
      "metadata": {
        "id": "cNtB-eDpuU-o",
        "colab_type": "text"
      },
      "source": [
        "### Test random texts"
      ]
    },
    {
      "cell_type": "code",
      "metadata": {
        "id": "9Gujuofuu1PN",
        "colab_type": "code",
        "colab": {
          "base_uri": "https://localhost:8080/",
          "height": 34
        },
        "outputId": "f40571c7-466e-43a0-b285-73a93baf3c5d"
      },
      "source": [
        "get_sentiment_analysis(\"I hate you\")"
      ],
      "execution_count": null,
      "outputs": [
        {
          "output_type": "stream",
          "text": [
            "The text is NEGATIVE\n"
          ],
          "name": "stdout"
        }
      ]
    },
    {
      "cell_type": "code",
      "metadata": {
        "id": "ZZZaaWrbsNCX",
        "colab_type": "code",
        "colab": {
          "base_uri": "https://localhost:8080/",
          "height": 34
        },
        "outputId": "531a1762-f996-4f5a-d463-f3c66d8da69b"
      },
      "source": [
        "# test sentiment of another text\n",
        "tb_obj_2 = TextBlob('I hate you!')\n",
        "print(tb_obj_2.sentiment.polarity)"
      ],
      "execution_count": null,
      "outputs": [
        {
          "output_type": "stream",
          "text": [
            "-1.0\n"
          ],
          "name": "stdout"
        }
      ]
    },
    {
      "cell_type": "code",
      "metadata": {
        "id": "XfVJiC4vu7VG",
        "colab_type": "code",
        "colab": {
          "base_uri": "https://localhost:8080/",
          "height": 34
        },
        "outputId": "72beb228-d399-4f56-8daa-29a537b1cd82"
      },
      "source": [
        "get_sentiment_analysis(\"I love you!\")"
      ],
      "execution_count": null,
      "outputs": [
        {
          "output_type": "stream",
          "text": [
            "The text is POSITIVE\n"
          ],
          "name": "stdout"
        }
      ]
    },
    {
      "cell_type": "code",
      "metadata": {
        "id": "rMEBFSxUtCi6",
        "colab_type": "code",
        "colab": {
          "base_uri": "https://localhost:8080/",
          "height": 34
        },
        "outputId": "8674f5e7-97e0-40eb-c28c-68191e362be7"
      },
      "source": [
        "# test sentiment of another text\n",
        "tb_obj_3 = TextBlob('I love you very much')\n",
        "print(tb_obj_3.sentiment.polarity)"
      ],
      "execution_count": null,
      "outputs": [
        {
          "output_type": "stream",
          "text": [
            "0.38\n"
          ],
          "name": "stdout"
        }
      ]
    },
    {
      "cell_type": "code",
      "metadata": {
        "id": "uTyRng7dvRvo",
        "colab_type": "code",
        "colab": {
          "base_uri": "https://localhost:8080/",
          "height": 34
        },
        "outputId": "01aed5d8-09f6-4673-dbc6-78cd467479a7"
      },
      "source": [
        "get_sentiment_analysis(\"I do not like him\")"
      ],
      "execution_count": null,
      "outputs": [
        {
          "output_type": "stream",
          "text": [
            "The text is NEUTRAL\n"
          ],
          "name": "stdout"
        }
      ]
    },
    {
      "cell_type": "code",
      "metadata": {
        "id": "pUDbBpNzvTSp",
        "colab_type": "code",
        "colab": {}
      },
      "source": [
        ""
      ],
      "execution_count": null,
      "outputs": []
    }
  ]
}